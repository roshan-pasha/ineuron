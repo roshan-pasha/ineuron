{
  "nbformat": 4,
  "nbformat_minor": 0,
  "metadata": {
    "colab": {
      "name": "Assignment2_ineuron_Mar28th.ipynb",
      "provenance": []
    },
    "kernelspec": {
      "name": "python3",
      "display_name": "Python 3"
    }
  },
  "cells": [
    {
      "cell_type": "markdown",
      "metadata": {
        "id": "TShixv1rWX9M",
        "colab_type": "text"
      },
      "source": [
        "Task 1"
      ]
    },
    {
      "cell_type": "markdown",
      "metadata": {
        "id": "5cgjYO6_WczY",
        "colab_type": "text"
      },
      "source": [
        "1.1 Write a Python Program to implement your own myreduce() function which works exactly like Python's built-in function reduce() \n"
      ]
    },
    {
      "cell_type": "code",
      "metadata": {
        "id": "RbMgNmsnVqC0",
        "colab_type": "code",
        "colab": {}
      },
      "source": [
        "# myreduce() function\n",
        "def myreduce(function,list1):\n",
        "  result=list1[0]\n",
        "  for i in list1[1:]:\n",
        "    result=function(result,i)\n",
        "  return result\n"
      ],
      "execution_count": 0,
      "outputs": []
    },
    {
      "cell_type": "code",
      "metadata": {
        "id": "THgo2jQyYcTq",
        "colab_type": "code",
        "colab": {
          "base_uri": "https://localhost:8080/",
          "height": 34
        },
        "outputId": "42123faa-3b3d-44dd-e616-59840c708b37"
      },
      "source": [
        "# Demonstration of myreduce function\n",
        "numbers = [3, 4, 6, 9, 34, 12]\n",
        "\n",
        "def custom_sum(first, second):\n",
        "    return first + second\n",
        "\n",
        "result1 = myreduce(custom_sum, numbers)\n",
        "print(result1)"
      ],
      "execution_count": 88,
      "outputs": [
        {
          "output_type": "stream",
          "text": [
            "68\n"
          ],
          "name": "stdout"
        }
      ]
    },
    {
      "cell_type": "markdown",
      "metadata": {
        "id": "NWnuebaTWo1Y",
        "colab_type": "text"
      },
      "source": [
        "1.2 Write a Python program to implement your own myfilter() function which works exactly like Python's built-in function filter() \n"
      ]
    },
    {
      "cell_type": "code",
      "metadata": {
        "id": "OKdy74yhWBHo",
        "colab_type": "code",
        "colab": {}
      },
      "source": [
        "# myfilter() function\n",
        "def myfilter(function,list2):\n",
        "  output = []\n",
        "  for i in list2:\n",
        "    if function (i):\n",
        "      output.append(i)\n",
        "  return output    \n",
        "\n"
      ],
      "execution_count": 0,
      "outputs": []
    },
    {
      "cell_type": "code",
      "metadata": {
        "id": "J-fpXgbDhxKz",
        "colab_type": "code",
        "colab": {
          "base_uri": "https://localhost:8080/",
          "height": 34
        },
        "outputId": "9a6fa261-2b36-4a13-9704-2fdb29426ca6"
      },
      "source": [
        "#Demonstration of myfilter function\n",
        "scores = [66, 90, 68, 59, 76, 60, 88, 74, 81, 65]\n",
        "def is_A_student(score):\n",
        "    # print(score>75)\n",
        "    return score > 75\n",
        "over_75 = list(myfilter(is_A_student, scores))\n",
        "\n",
        "print(over_75)"
      ],
      "execution_count": 90,
      "outputs": [
        {
          "output_type": "stream",
          "text": [
            "[90, 76, 88, 81]\n"
          ],
          "name": "stdout"
        }
      ]
    },
    {
      "cell_type": "markdown",
      "metadata": {
        "id": "qso9ZwN5Wsz6",
        "colab_type": "text"
      },
      "source": [
        "2. Implement List comprehensions to produce the following lists. \n",
        "Write List comprehensions to produce the following Lists \n",
        "['x', 'xx', 'xxx', 'xxxx', 'y', 'yy', 'yyy', 'yyyy', 'z', 'zz', 'zzz', 'zzzz'] ---\n",
        "['x', 'y', 'z', 'xx', 'yy', 'zz', 'xx', 'yy', 'zz', 'xxxx', 'yyyy', 'zzzz'] ---\n",
        "[[2], [3], [4], [3], [4], [5], [4], [5], [6]] ---\n",
        "[[2, 3, 4, 5], [3, 4, 5, 6], [4, 5, 6, 7], [5, 6, 7, 8]] ---\n",
        "[(1, 1), (2, 1), (3, 1), (1, 2), (2, 2), (3, 2), (1, 3), (2, 3), (3, 3)] \n"
      ]
    },
    {
      "cell_type": "code",
      "metadata": {
        "id": "PKqSqSapW6tm",
        "colab_type": "code",
        "outputId": "5f4ac839-44dc-4bfb-814d-22fd0fd43ddd",
        "colab": {
          "base_uri": "https://localhost:8080/",
          "height": 102
        }
      },
      "source": [
        "\n",
        "output_1 = [ i*j for i in ['x','y','z'] for j in range(1,5) ]\n",
        "print(output_1)\n",
        "\n",
        "output_2 = [i*j for i in range(1,5) for j in ['x','y','z']]\n",
        "print(output_2)\n",
        "\n",
        "output_3 = [ [i+j] for i in range(2,5) for j in range(3) ]  \n",
        "print(output_3)\n",
        "\n",
        "output_4 =[ [ i+j  for i in range(2,6) for j in range(4)] [i * 4:(i + 1) * 4] for i in range(4)]\n",
        "print(output_4)\n",
        "\n",
        "output_5 = [ (j,i) for i in range(1,4)for j in range(1,4)]\n",
        "print(output_5)\n",
        "\n"
      ],
      "execution_count": 91,
      "outputs": [
        {
          "output_type": "stream",
          "text": [
            "['x', 'xx', 'xxx', 'xxxx', 'y', 'yy', 'yyy', 'yyyy', 'z', 'zz', 'zzz', 'zzzz']\n",
            "['x', 'y', 'z', 'xx', 'yy', 'zz', 'xxx', 'yyy', 'zzz', 'xxxx', 'yyyy', 'zzzz']\n",
            "[[2], [3], [4], [3], [4], [5], [4], [5], [6]]\n",
            "[[2, 3, 4, 5], [3, 4, 5, 6], [4, 5, 6, 7], [5, 6, 7, 8]]\n",
            "[(1, 1), (2, 1), (3, 1), (1, 2), (2, 2), (3, 2), (1, 3), (2, 3), (3, 3)]\n"
          ],
          "name": "stdout"
        }
      ]
    },
    {
      "cell_type": "markdown",
      "metadata": {
        "id": "U3nD85mTW8u0",
        "colab_type": "text"
      },
      "source": [
        "3. Implement a function longestWord() that takes a list of words and returns the longest one. \n"
      ]
    },
    {
      "cell_type": "code",
      "metadata": {
        "id": "0a5HYFFnXAq6",
        "colab_type": "code",
        "outputId": "3001b5f4-5b90-4695-afb0-38f0bd5fb491",
        "colab": {
          "base_uri": "https://localhost:8080/",
          "height": 51
        }
      },
      "source": [
        "# If there are more than one longest words then assuming to print a word which is in ascending order\n",
        "input_list = list(map(str,input(\"Enter words with comma seperated : \").split(',')))\n",
        "def longestWord(input_list):\n",
        "  len_long_word = 0\n",
        "  long_word = ''\n",
        "  for i in sorted(input_list):\n",
        "    if len(i) > len_long_word:\n",
        "      len_long_word = len(i)\n",
        "      long_word = i\n",
        "  return long_word\n",
        "\n",
        "print(longestWord(input_list))  "
      ],
      "execution_count": 92,
      "outputs": [
        {
          "output_type": "stream",
          "text": [
            "Enter words with comma seperated : Logolas,Shannara,Frodo,Samwise\n",
            "Shannara\n"
          ],
          "name": "stdout"
        }
      ]
    },
    {
      "cell_type": "markdown",
      "metadata": {
        "id": "wUBXyZR4Xsyc",
        "colab_type": "text"
      },
      "source": [
        "Task 2"
      ]
    },
    {
      "cell_type": "markdown",
      "metadata": {
        "id": "2oEVQTq4XwWA",
        "colab_type": "text"
      },
      "source": [
        "1.1 Write a Python Program(with class concepts) to find the area of the triangle using the below formula. \n",
        "area = (s*(s-a)*(s-b)*(s-c)) ** 0.5 \n",
        "Function to take the length of the sides of triangle from user should be defined in the parent class and function to calculate the area should be defined in subclass. \n"
      ]
    },
    {
      "cell_type": "code",
      "metadata": {
        "id": "Q0PTeE6WXuVl",
        "colab_type": "code",
        "colab": {
          "base_uri": "https://localhost:8080/",
          "height": 85
        },
        "outputId": "a134a4fb-dbb3-4cee-b6a6-c93b03d63f6c"
      },
      "source": [
        "class triangle:\n",
        "  def __init__(self):\n",
        "    self.a=a\n",
        "    self.b=b\n",
        "    self.c=c\n",
        "    # print(self.c)\n",
        "class area(triangle):\n",
        "  def compute(self):\n",
        "    s = (self.a+self.b+self.c) /2\n",
        "    # print(s)\n",
        "    area= (s*(s-self.a)*(s-self.b)*(s-self.c))**0.5\n",
        "    # print(area)\n",
        "    if area > 0:\n",
        "      return print(\"Area of Triangle is : \",round(area,2), 'square units')\n",
        "    else:\n",
        "      return print('Unable to construct triangle with the provided lengths')  \n",
        "\n",
        "a = int(input('Enter the length od side A : '))\n",
        "b = int(input('Enter the length od side B : '))\n",
        "c = int(input('Enter the length od side C : '))\n",
        "\n",
        "ar = area()\n",
        "ar.compute()\n"
      ],
      "execution_count": 86,
      "outputs": [
        {
          "output_type": "stream",
          "text": [
            "Enter the length od side A : 10\n",
            "Enter the length od side B : 20\n",
            "Enter the length od side C : 25\n",
            "Area of Triangle is :  94.99 square units\n"
          ],
          "name": "stdout"
        }
      ]
    },
    {
      "cell_type": "markdown",
      "metadata": {
        "id": "v3rj4UJbXysp",
        "colab_type": "text"
      },
      "source": [
        "1.2 Write a function filter_long_words() that takes a list of words and an integer n and returns the list of words that are longer than n. \n"
      ]
    },
    {
      "cell_type": "code",
      "metadata": {
        "id": "WH-mMlkhX3dw",
        "colab_type": "code",
        "outputId": "0c4ecd6f-d953-4c40-99f7-e6c751c1b693",
        "colab": {
          "base_uri": "https://localhost:8080/",
          "height": 68
        }
      },
      "source": [
        "input_list = list(map(str,input(\"Enter words with comma seperated : \").split(',')))\n",
        "n = int(input(\"Enter length of number : \"))\n",
        "def filter_long_word(input_list,n):\n",
        "  output_list = [x for x in input_list if len(x) > n]\n",
        "  return output_list\n",
        "print(filter_long_word(input_list,n))  \n"
      ],
      "execution_count": 93,
      "outputs": [
        {
          "output_type": "stream",
          "text": [
            "Enter words with comma seperated : Abellon,Eratria,Amberle,Ander,coglin\n",
            "Enter length of number : 5\n",
            "['Abellon', 'Eratria', 'Amberle', 'coglin']\n"
          ],
          "name": "stdout"
        }
      ]
    },
    {
      "cell_type": "markdown",
      "metadata": {
        "id": "10S2BgAWX46H",
        "colab_type": "text"
      },
      "source": [
        "2.1 Write a Python program using function concept that maps list of words into a list of integers representing the lengths of the corresponding words. \n",
        "Hint: If a list [ ab,cde,erty] is passed on to the python function output should come as [2,3,4] \n",
        "Here 2,3 and 4 are the lengths of the words in the list. \n"
      ]
    },
    {
      "cell_type": "code",
      "metadata": {
        "id": "l9G-vzB7X-v2",
        "colab_type": "code",
        "outputId": "0d2e920d-05ba-49d5-b721-5c59209d75df",
        "colab": {
          "base_uri": "https://localhost:8080/",
          "height": 51
        }
      },
      "source": [
        "input_list = list(map(str,input(\"Enter words with comma seperated : \").split(',')))\n",
        "\n",
        "def conv_lenofword_to_number(input_list):\n",
        "  output_num = [len(x) for x in input_list ]\n",
        "  return output_num\n",
        "\n",
        "print(conv_lenofword_to_number(input_list))\n",
        "   "
      ],
      "execution_count": 94,
      "outputs": [
        {
          "output_type": "stream",
          "text": [
            "Enter words with comma seperated : Shannara,Amberle,Samwise,Frodo,Logolas\n",
            "[8, 7, 7, 5, 7]\n"
          ],
          "name": "stdout"
        }
      ]
    },
    {
      "cell_type": "markdown",
      "metadata": {
        "id": "Cb6BFunfYAMq",
        "colab_type": "text"
      },
      "source": [
        "2.2 Write a Python function which takes a character (i.e. a string of length 1) and returns True if it is a vowel, False otherwise. \n"
      ]
    },
    {
      "cell_type": "code",
      "metadata": {
        "id": "PmAM2gZXYCoV",
        "colab_type": "code",
        "outputId": "5674ed2f-2dd5-44e7-d17b-f60615740bef",
        "colab": {
          "base_uri": "https://localhost:8080/",
          "height": 51
        }
      },
      "source": [
        "list_vowels = ['a','e','i','o','u']\n",
        "# input_char = input('Enter a character: ')\n",
        "def char_vowel(input_char):\n",
        "  char = input_char.lower()\n",
        "  if char in list_vowels:\n",
        "    return True\n",
        "  else:\n",
        "    return False\n",
        "print(char_vowel(input_char = input('Enter a character: ')))    \n",
        "\n"
      ],
      "execution_count": 95,
      "outputs": [
        {
          "output_type": "stream",
          "text": [
            "Enter a character: A\n",
            "True\n"
          ],
          "name": "stdout"
        }
      ]
    },
    {
      "cell_type": "code",
      "metadata": {
        "id": "dSQ5MzjiZSUz",
        "colab_type": "code",
        "colab": {}
      },
      "source": [
        ""
      ],
      "execution_count": 0,
      "outputs": []
    },
    {
      "cell_type": "code",
      "metadata": {
        "id": "CNKHtugg92X0",
        "colab_type": "code",
        "colab": {}
      },
      "source": [
        ""
      ],
      "execution_count": 0,
      "outputs": []
    },
    {
      "cell_type": "code",
      "metadata": {
        "id": "IkXPdhSGuitz",
        "colab_type": "code",
        "colab": {}
      },
      "source": [
        ""
      ],
      "execution_count": 0,
      "outputs": []
    }
  ]
}