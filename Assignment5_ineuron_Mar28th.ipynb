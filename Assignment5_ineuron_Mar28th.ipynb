{
  "nbformat": 4,
  "nbformat_minor": 0,
  "metadata": {
    "colab": {
      "name": "Assignment5_ineuron_Mar28th.ipynb",
      "provenance": []
    },
    "kernelspec": {
      "name": "python3",
      "display_name": "Python 3"
    }
  },
  "cells": [
    {
      "cell_type": "code",
      "metadata": {
        "id": "1x8bTml72UYb",
        "colab_type": "code",
        "colab": {}
      },
      "source": [
        "import pandas as pd\n",
        "import numpy as np\n",
        "import matplotlib.pyplot as plt\n",
        "import seaborn as sns"
      ],
      "execution_count": 0,
      "outputs": []
    },
    {
      "cell_type": "code",
      "metadata": {
        "id": "bPZrRCsJ4HUf",
        "colab_type": "code",
        "colab": {}
      },
      "source": [
        "df = pd.read_csv('https://raw.githubusercontent.com/guipsamora/pandas_exercises/master/06_Stats/US_Baby_Names/US_Baby_Names_right.csv')"
      ],
      "execution_count": 0,
      "outputs": []
    },
    {
      "cell_type": "code",
      "metadata": {
        "id": "r9DIym494Mug",
        "colab_type": "code",
        "colab": {
          "base_uri": "https://localhost:8080/",
          "height": 204
        },
        "outputId": "3617d2ee-68ed-4a4f-8aa3-a724ac68e5ba"
      },
      "source": [
        "df.head()"
      ],
      "execution_count": 69,
      "outputs": [
        {
          "output_type": "execute_result",
          "data": {
            "text/html": [
              "<div>\n",
              "<style scoped>\n",
              "    .dataframe tbody tr th:only-of-type {\n",
              "        vertical-align: middle;\n",
              "    }\n",
              "\n",
              "    .dataframe tbody tr th {\n",
              "        vertical-align: top;\n",
              "    }\n",
              "\n",
              "    .dataframe thead th {\n",
              "        text-align: right;\n",
              "    }\n",
              "</style>\n",
              "<table border=\"1\" class=\"dataframe\">\n",
              "  <thead>\n",
              "    <tr style=\"text-align: right;\">\n",
              "      <th></th>\n",
              "      <th>Unnamed: 0</th>\n",
              "      <th>Id</th>\n",
              "      <th>Name</th>\n",
              "      <th>Year</th>\n",
              "      <th>Gender</th>\n",
              "      <th>State</th>\n",
              "      <th>Count</th>\n",
              "    </tr>\n",
              "  </thead>\n",
              "  <tbody>\n",
              "    <tr>\n",
              "      <th>0</th>\n",
              "      <td>11349</td>\n",
              "      <td>11350</td>\n",
              "      <td>Emma</td>\n",
              "      <td>2004</td>\n",
              "      <td>F</td>\n",
              "      <td>AK</td>\n",
              "      <td>62</td>\n",
              "    </tr>\n",
              "    <tr>\n",
              "      <th>1</th>\n",
              "      <td>11350</td>\n",
              "      <td>11351</td>\n",
              "      <td>Madison</td>\n",
              "      <td>2004</td>\n",
              "      <td>F</td>\n",
              "      <td>AK</td>\n",
              "      <td>48</td>\n",
              "    </tr>\n",
              "    <tr>\n",
              "      <th>2</th>\n",
              "      <td>11351</td>\n",
              "      <td>11352</td>\n",
              "      <td>Hannah</td>\n",
              "      <td>2004</td>\n",
              "      <td>F</td>\n",
              "      <td>AK</td>\n",
              "      <td>46</td>\n",
              "    </tr>\n",
              "    <tr>\n",
              "      <th>3</th>\n",
              "      <td>11352</td>\n",
              "      <td>11353</td>\n",
              "      <td>Grace</td>\n",
              "      <td>2004</td>\n",
              "      <td>F</td>\n",
              "      <td>AK</td>\n",
              "      <td>44</td>\n",
              "    </tr>\n",
              "    <tr>\n",
              "      <th>4</th>\n",
              "      <td>11353</td>\n",
              "      <td>11354</td>\n",
              "      <td>Emily</td>\n",
              "      <td>2004</td>\n",
              "      <td>F</td>\n",
              "      <td>AK</td>\n",
              "      <td>41</td>\n",
              "    </tr>\n",
              "  </tbody>\n",
              "</table>\n",
              "</div>"
            ],
            "text/plain": [
              "   Unnamed: 0     Id     Name  Year Gender State  Count\n",
              "0       11349  11350     Emma  2004      F    AK     62\n",
              "1       11350  11351  Madison  2004      F    AK     48\n",
              "2       11351  11352   Hannah  2004      F    AK     46\n",
              "3       11352  11353    Grace  2004      F    AK     44\n",
              "4       11353  11354    Emily  2004      F    AK     41"
            ]
          },
          "metadata": {
            "tags": []
          },
          "execution_count": 69
        }
      ]
    },
    {
      "cell_type": "code",
      "metadata": {
        "id": "wVTUMXuH4OXb",
        "colab_type": "code",
        "colab": {
          "base_uri": "https://localhost:8080/",
          "height": 34
        },
        "outputId": "fe2c83df-4465-4f3e-eeb1-b2d0c0df6382"
      },
      "source": [
        "# 1. Delete unnamed columns\n",
        "df.columns"
      ],
      "execution_count": 70,
      "outputs": [
        {
          "output_type": "execute_result",
          "data": {
            "text/plain": [
              "Index(['Unnamed: 0', 'Id', 'Name', 'Year', 'Gender', 'State', 'Count'], dtype='object')"
            ]
          },
          "metadata": {
            "tags": []
          },
          "execution_count": 70
        }
      ]
    },
    {
      "cell_type": "code",
      "metadata": {
        "id": "OU6fGiEi4X94",
        "colab_type": "code",
        "colab": {}
      },
      "source": [
        "df = df.drop('Unnamed: 0',axis =1)"
      ],
      "execution_count": 0,
      "outputs": []
    },
    {
      "cell_type": "code",
      "metadata": {
        "id": "miaX-iF64h3k",
        "colab_type": "code",
        "colab": {
          "base_uri": "https://localhost:8080/",
          "height": 204
        },
        "outputId": "c711ff70-871b-462b-d750-9f2d66f2096d"
      },
      "source": [
        "df.head()"
      ],
      "execution_count": 72,
      "outputs": [
        {
          "output_type": "execute_result",
          "data": {
            "text/html": [
              "<div>\n",
              "<style scoped>\n",
              "    .dataframe tbody tr th:only-of-type {\n",
              "        vertical-align: middle;\n",
              "    }\n",
              "\n",
              "    .dataframe tbody tr th {\n",
              "        vertical-align: top;\n",
              "    }\n",
              "\n",
              "    .dataframe thead th {\n",
              "        text-align: right;\n",
              "    }\n",
              "</style>\n",
              "<table border=\"1\" class=\"dataframe\">\n",
              "  <thead>\n",
              "    <tr style=\"text-align: right;\">\n",
              "      <th></th>\n",
              "      <th>Id</th>\n",
              "      <th>Name</th>\n",
              "      <th>Year</th>\n",
              "      <th>Gender</th>\n",
              "      <th>State</th>\n",
              "      <th>Count</th>\n",
              "    </tr>\n",
              "  </thead>\n",
              "  <tbody>\n",
              "    <tr>\n",
              "      <th>0</th>\n",
              "      <td>11350</td>\n",
              "      <td>Emma</td>\n",
              "      <td>2004</td>\n",
              "      <td>F</td>\n",
              "      <td>AK</td>\n",
              "      <td>62</td>\n",
              "    </tr>\n",
              "    <tr>\n",
              "      <th>1</th>\n",
              "      <td>11351</td>\n",
              "      <td>Madison</td>\n",
              "      <td>2004</td>\n",
              "      <td>F</td>\n",
              "      <td>AK</td>\n",
              "      <td>48</td>\n",
              "    </tr>\n",
              "    <tr>\n",
              "      <th>2</th>\n",
              "      <td>11352</td>\n",
              "      <td>Hannah</td>\n",
              "      <td>2004</td>\n",
              "      <td>F</td>\n",
              "      <td>AK</td>\n",
              "      <td>46</td>\n",
              "    </tr>\n",
              "    <tr>\n",
              "      <th>3</th>\n",
              "      <td>11353</td>\n",
              "      <td>Grace</td>\n",
              "      <td>2004</td>\n",
              "      <td>F</td>\n",
              "      <td>AK</td>\n",
              "      <td>44</td>\n",
              "    </tr>\n",
              "    <tr>\n",
              "      <th>4</th>\n",
              "      <td>11354</td>\n",
              "      <td>Emily</td>\n",
              "      <td>2004</td>\n",
              "      <td>F</td>\n",
              "      <td>AK</td>\n",
              "      <td>41</td>\n",
              "    </tr>\n",
              "  </tbody>\n",
              "</table>\n",
              "</div>"
            ],
            "text/plain": [
              "      Id     Name  Year Gender State  Count\n",
              "0  11350     Emma  2004      F    AK     62\n",
              "1  11351  Madison  2004      F    AK     48\n",
              "2  11352   Hannah  2004      F    AK     46\n",
              "3  11353    Grace  2004      F    AK     44\n",
              "4  11354    Emily  2004      F    AK     41"
            ]
          },
          "metadata": {
            "tags": []
          },
          "execution_count": 72
        }
      ]
    },
    {
      "cell_type": "code",
      "metadata": {
        "id": "5jM5x5Gd4jW1",
        "colab_type": "code",
        "colab": {}
      },
      "source": [
        "# 2. Show the distribution of male and female\n",
        "sns.set(style='darkgrid')"
      ],
      "execution_count": 0,
      "outputs": []
    },
    {
      "cell_type": "code",
      "metadata": {
        "id": "kgxc5NXs4skW",
        "colab_type": "code",
        "colab": {
          "base_uri": "https://localhost:8080/",
          "height": 302
        },
        "outputId": "adaf1551-99e5-4e01-84bd-ebcd9ca71446"
      },
      "source": [
        "sns.countplot(data = df, x = 'Gender',palette='Set3')"
      ],
      "execution_count": 74,
      "outputs": [
        {
          "output_type": "execute_result",
          "data": {
            "text/plain": [
              "<matplotlib.axes._subplots.AxesSubplot at 0x7fcd4cb73278>"
            ]
          },
          "metadata": {
            "tags": []
          },
          "execution_count": 74
        },
        {
          "output_type": "display_data",
          "data": {
            "image/png": "[encoded data removed]",
            "text/plain": [
              "<Figure size 432x288 with 1 Axes>"
            ]
          },
          "metadata": {
            "tags": []
          }
        }
      ]
    },
    {
      "cell_type": "code",
      "metadata": {
        "id": "oEJ89LScEPci",
        "colab_type": "code",
        "colab": {
          "base_uri": "https://localhost:8080/",
          "height": 51
        },
        "outputId": "5e15e8cf-fa68-4edf-dd21-605954f150ab"
      },
      "source": [
        "print(round((len(df[df['Gender'] == 'F'])/ (len(df.Gender)))*100,2))\n",
        "print(round((len(df[df['Gender'] == 'M'])/ (len(df.Gender)))*100,2))"
      ],
      "execution_count": 75,
      "outputs": [
        {
          "output_type": "stream",
          "text": [
            "54.98\n",
            "45.02\n"
          ],
          "name": "stdout"
        }
      ]
    },
    {
      "cell_type": "code",
      "metadata": {
        "id": "QWjb9AGZ6TQN",
        "colab_type": "code",
        "colab": {}
      },
      "source": [
        "# 3. Show the top 5 most preferred names\n"
      ],
      "execution_count": 0,
      "outputs": []
    },
    {
      "cell_type": "code",
      "metadata": {
        "id": "jK_l85PiDtOv",
        "colab_type": "code",
        "colab": {
          "base_uri": "https://localhost:8080/",
          "height": 136
        },
        "outputId": "85c72972-1d5c-4221-db9c-0f486d502e6f"
      },
      "source": [
        "df.groupby('Name')['Count'].sum().sort_values(ascending = False).head()"
      ],
      "execution_count": 76,
      "outputs": [
        {
          "output_type": "execute_result",
          "data": {
            "text/plain": [
              "Name\n",
              "Jacob       242874\n",
              "Emma        214852\n",
              "Michael     214405\n",
              "Ethan       209277\n",
              "Isabella    204798\n",
              "Name: Count, dtype: int64"
            ]
          },
          "metadata": {
            "tags": []
          },
          "execution_count": 76
        }
      ]
    },
    {
      "cell_type": "code",
      "metadata": {
        "id": "aCw7sNoJAsdx",
        "colab_type": "code",
        "colab": {
          "base_uri": "https://localhost:8080/",
          "height": 34
        },
        "outputId": "29161688-d925-4182-f8d2-57f45ade93cf"
      },
      "source": [
        "# 4. What is the median name occurence in the dataset\n",
        "df.Id.median()"
      ],
      "execution_count": 77,
      "outputs": [
        {
          "output_type": "execute_result",
          "data": {
            "text/plain": [
              "2811921.0"
            ]
          },
          "metadata": {
            "tags": []
          },
          "execution_count": 77
        }
      ]
    },
    {
      "cell_type": "code",
      "metadata": {
        "id": "uIg7kQ0hB3BE",
        "colab_type": "code",
        "colab": {
          "base_uri": "https://localhost:8080/",
          "height": 80
        },
        "outputId": "03990114-b80e-4d79-e7b3-ef4438b8305c"
      },
      "source": [
        "df[df['Id'] == df.median()['Id']]"
      ],
      "execution_count": 78,
      "outputs": [
        {
          "output_type": "execute_result",
          "data": {
            "text/html": [
              "<div>\n",
              "<style scoped>\n",
              "    .dataframe tbody tr th:only-of-type {\n",
              "        vertical-align: middle;\n",
              "    }\n",
              "\n",
              "    .dataframe tbody tr th {\n",
              "        vertical-align: top;\n",
              "    }\n",
              "\n",
              "    .dataframe thead th {\n",
              "        text-align: right;\n",
              "    }\n",
              "</style>\n",
              "<table border=\"1\" class=\"dataframe\">\n",
              "  <thead>\n",
              "    <tr style=\"text-align: right;\">\n",
              "      <th></th>\n",
              "      <th>Id</th>\n",
              "      <th>Name</th>\n",
              "      <th>Year</th>\n",
              "      <th>Gender</th>\n",
              "      <th>State</th>\n",
              "      <th>Count</th>\n",
              "    </tr>\n",
              "  </thead>\n",
              "  <tbody>\n",
              "    <tr>\n",
              "      <th>508197</th>\n",
              "      <td>2811921</td>\n",
              "      <td>Kasey</td>\n",
              "      <td>2010</td>\n",
              "      <td>F</td>\n",
              "      <td>MO</td>\n",
              "      <td>6</td>\n",
              "    </tr>\n",
              "  </tbody>\n",
              "</table>\n",
              "</div>"
            ],
            "text/plain": [
              "             Id   Name  Year Gender State  Count\n",
              "508197  2811921  Kasey  2010      F    MO      6"
            ]
          },
          "metadata": {
            "tags": []
          },
          "execution_count": 78
        }
      ]
    },
    {
      "cell_type": "code",
      "metadata": {
        "id": "XVc1lnioGgbc",
        "colab_type": "code",
        "colab": {
          "base_uri": "https://localhost:8080/",
          "height": 51
        },
        "outputId": "adeb3924-8b48-42b7-acd3-37318c753cbd"
      },
      "source": [
        "df[df['Id'] == df.median()['Id']]['Name']"
      ],
      "execution_count": 79,
      "outputs": [
        {
          "output_type": "execute_result",
          "data": {
            "text/plain": [
              "508197    Kasey\n",
              "Name: Name, dtype: object"
            ]
          },
          "metadata": {
            "tags": []
          },
          "execution_count": 79
        }
      ]
    },
    {
      "cell_type": "code",
      "metadata": {
        "id": "YJ-cD3NxHGXH",
        "colab_type": "code",
        "colab": {
          "base_uri": "https://localhost:8080/",
          "height": 405
        },
        "outputId": "eeac6f79-c215-4c03-c872-c82e73bae90f"
      },
      "source": [
        "# 5. Distribution of male and female born count by states,\n",
        "plt.figure(figsize=(18,6))\n",
        "ax = sns.barplot(data = df,x = 'State',hue = 'Gender',y='Count',estimator=np.sum)"
      ],
      "execution_count": 80,
      "outputs": [
        {
          "output_type": "display_data",
          "data": {
            "image/png": "[encoded data removed]",
            "text/plain": [
              "<Figure size 1296x432 with 1 Axes>"
            ]
          },
          "metadata": {
            "tags": []
          }
        }
      ]
    },
    {
      "cell_type": "code",
      "metadata": {
        "id": "npxoxxq2HfEe",
        "colab_type": "code",
        "colab": {
          "base_uri": "https://localhost:8080/",
          "height": 918
        },
        "outputId": "c7d37b8c-8e7b-4bfa-a49e-459d422e8410"
      },
      "source": [
        "df[df['Gender']=='F'].groupby('State')['Count'].sum()"
      ],
      "execution_count": 81,
      "outputs": [
        {
          "output_type": "execute_result",
          "data": {
            "text/plain": [
              "State\n",
              "AK      26250\n",
              "AL     215308\n",
              "AR     129712\n",
              "AZ     368567\n",
              "CA    2414063\n",
              "CO     260805\n",
              "CT     141350\n",
              "DC      35276\n",
              "DE      31312\n",
              "FL     915422\n",
              "GA     549637\n",
              "HI      37279\n",
              "IA     144764\n",
              "ID      72808\n",
              "IL     695312\n",
              "IN     344962\n",
              "KS     147216\n",
              "KY     210201\n",
              "LA     221859\n",
              "MA     294236\n",
              "MD     269915\n",
              "ME      43718\n",
              "MI     480990\n",
              "MN     276884\n",
              "MO     307848\n",
              "MS     127343\n",
              "MT      31622\n",
              "NC     501151\n",
              "ND      30054\n",
              "NE      88998\n",
              "NH      45065\n",
              "NJ     425430\n",
              "NM      85115\n",
              "NV     123730\n",
              "NY    1036009\n",
              "OH     598027\n",
              "OK     184967\n",
              "OR     172111\n",
              "PA     593382\n",
              "RI      35560\n",
              "SC     197917\n",
              "SD      34104\n",
              "TN     336487\n",
              "TX    1786281\n",
              "UT     202892\n",
              "VA     405503\n",
              "VT      15079\n",
              "WA     334944\n",
              "WI     264921\n",
              "WV      73800\n",
              "WY      14107\n",
              "Name: Count, dtype: int64"
            ]
          },
          "metadata": {
            "tags": []
          },
          "execution_count": 81
        }
      ]
    },
    {
      "cell_type": "code",
      "metadata": {
        "id": "Oay80ZD6JxcC",
        "colab_type": "code",
        "colab": {
          "base_uri": "https://localhost:8080/",
          "height": 918
        },
        "outputId": "b23ea141-b477-4436-d01e-13b2de238189"
      },
      "source": [
        "df[df['Gender']=='M'].groupby('State')['Count'].sum()"
      ],
      "execution_count": 82,
      "outputs": [
        {
          "output_type": "execute_result",
          "data": {
            "text/plain": [
              "State\n",
              "AK      37399\n",
              "AL     260114\n",
              "AR     162947\n",
              "AZ     439691\n",
              "CA    2670584\n",
              "CO     313425\n",
              "CT     171397\n",
              "DC      47228\n",
              "DE      41748\n",
              "FL    1060957\n",
              "GA     635531\n",
              "HI      53127\n",
              "IA     174009\n",
              "ID      94320\n",
              "IL     791679\n",
              "IN     408525\n",
              "KS     179824\n",
              "KY     250589\n",
              "LA     271646\n",
              "MA     343996\n",
              "MD     315331\n",
              "ME      55650\n",
              "MI     557090\n",
              "MN     318917\n",
              "MO     364924\n",
              "MS     160800\n",
              "MT      44143\n",
              "NC     577529\n",
              "ND      39507\n",
              "NE     112369\n",
              "NH      56482\n",
              "NJ     487900\n",
              "NM     113542\n",
              "NV     156037\n",
              "NY    1172145\n",
              "OH     688343\n",
              "OK     228613\n",
              "OR     209445\n",
              "PA     682709\n",
              "RI      47939\n",
              "SC     237442\n",
              "SD      45443\n",
              "TN     398615\n",
              "TX    2005394\n",
              "UT     245324\n",
              "VA     466873\n",
              "VT      21353\n",
              "WA     395377\n",
              "WI     311758\n",
              "WV      93557\n",
              "WY      21912\n",
              "Name: Count, dtype: int64"
            ]
          },
          "metadata": {
            "tags": []
          },
          "execution_count": 82
        }
      ]
    },
    {
      "cell_type": "code",
      "metadata": {
        "id": "_JNffqnAKpo_",
        "colab_type": "code",
        "colab": {}
      },
      "source": [
        ""
      ],
      "execution_count": 0,
      "outputs": []
    },
    {
      "cell_type": "code",
      "metadata": {
        "id": "bYnTdij6K_r5",
        "colab_type": "code",
        "colab": {}
      },
      "source": [
        ""
      ],
      "execution_count": 0,
      "outputs": []
    }
  ]
}