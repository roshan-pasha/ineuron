{
  "nbformat": 4,
  "nbformat_minor": 0,
  "metadata": {
    "colab": {
      "name": "Assignment1_ineuron_Mar28th.ipynb",
      "provenance": []
    },
    "kernelspec": {
      "name": "python3",
      "display_name": "Python 3"
    }
  },
  "cells": [
    {
      "cell_type": "code",
      "metadata": {
        "id": "znskKGrToP8c",
        "colab_type": "code",
        "colab": {}
      },
      "source": [
        ""
      ],
      "execution_count": 0,
      "outputs": []
    },
    {
      "cell_type": "markdown",
      "metadata": {
        "id": "lAPHI6lAotap",
        "colab_type": "text"
      },
      "source": [
        "### Problem Statement\n",
        "Task 1"
      ]
    },
    {
      "cell_type": "code",
      "metadata": {
        "id": "dz_Fe4wV6kb_",
        "colab_type": "code",
        "colab": {}
      },
      "source": [
        ""
      ],
      "execution_count": 0,
      "outputs": []
    },
    {
      "cell_type": "markdown",
      "metadata": {
        "id": "T5087ypxC8oG",
        "colab_type": "text"
      },
      "source": [
        "1. Write a program which will find all such numbers which are divisible by 7 but are not a multiple of 5, between 2000 and 3200 (both included). The numbers obtained should be printed in a comma-separated sequence on a single line. \n"
      ]
    },
    {
      "cell_type": "code",
      "metadata": {
        "id": "LUyIYYTjC-3f",
        "colab_type": "code",
        "colab": {
          "base_uri": "https://localhost:8080/",
          "height": 54
        },
        "outputId": "8c76ba1a-1c31-433e-f13d-9dbac5acb71f"
      },
      "source": [
        "for i in range(2000,3201):\n",
        "  if i%7==0 and i%5 != 0:\n",
        "    print(i,end=',')\n",
        "    "
      ],
      "execution_count": 10,
      "outputs": [
        {
          "output_type": "stream",
          "text": [
            "2002,2009,2016,2023,2037,2044,2051,2058,2072,2079,2086,2093,2107,2114,2121,2128,2142,2149,2156,2163,2177,2184,2191,2198,2212,2219,2226,2233,2247,2254,2261,2268,2282,2289,2296,2303,2317,2324,2331,2338,2352,2359,2366,2373,2387,2394,2401,2408,2422,2429,2436,2443,2457,2464,2471,2478,2492,2499,2506,2513,2527,2534,2541,2548,2562,2569,2576,2583,2597,2604,2611,2618,2632,2639,2646,2653,2667,2674,2681,2688,2702,2709,2716,2723,2737,2744,2751,2758,2772,2779,2786,2793,2807,2814,2821,2828,2842,2849,2856,2863,2877,2884,2891,2898,2912,2919,2926,2933,2947,2954,2961,2968,2982,2989,2996,3003,3017,3024,3031,3038,3052,3059,3066,3073,3087,3094,3101,3108,3122,3129,3136,3143,3157,3164,3171,3178,3192,3199,"
          ],
          "name": "stdout"
        }
      ]
    },
    {
      "cell_type": "code",
      "metadata": {
        "id": "x7Zvi6HlDNK4",
        "colab_type": "code",
        "colab": {}
      },
      "source": [
        ""
      ],
      "execution_count": 0,
      "outputs": []
    },
    {
      "cell_type": "markdown",
      "metadata": {
        "id": "BXUondIcDOH2",
        "colab_type": "text"
      },
      "source": [
        "2.Write a Python program to accept the user's first and last name and then getting them printed in the the reverse order with a space between first name and last name. \n"
      ]
    },
    {
      "cell_type": "code",
      "metadata": {
        "id": "bJSEV5CEDM7G",
        "colab_type": "code",
        "colab": {
          "base_uri": "https://localhost:8080/",
          "height": 68
        },
        "outputId": "7d652df7-d423-4dd7-8607-68cfb8148929"
      },
      "source": [
        "first_name = input()\n",
        "last_name = input()\n",
        "\n",
        "print(first_name[::-1],last_name[::-1])"
      ],
      "execution_count": 15,
      "outputs": [
        {
          "output_type": "stream",
          "text": [
            "Roshan\n",
            "Mohammad\n",
            "nahsoR dammahoM\n"
          ],
          "name": "stdout"
        }
      ]
    },
    {
      "cell_type": "code",
      "metadata": {
        "id": "ygFl7U_-GTZI",
        "colab_type": "code",
        "colab": {}
      },
      "source": [
        ""
      ],
      "execution_count": 0,
      "outputs": []
    },
    {
      "cell_type": "markdown",
      "metadata": {
        "id": "9WSf4_YlGq9H",
        "colab_type": "text"
      },
      "source": [
        "3.Write a Python program to find the volume of a sphere with diameter 12 cm. \n",
        "Formula: V=4/3 * π * r 3 \n"
      ]
    },
    {
      "cell_type": "code",
      "metadata": {
        "id": "AFegS0PaGrv_",
        "colab_type": "code",
        "colab": {
          "base_uri": "https://localhost:8080/",
          "height": 34
        },
        "outputId": "d0385069-f943-4a43-e76d-1438e51836b7"
      },
      "source": [
        "from math import pi\n",
        "def volume_of_sphere(diameter = 12):\n",
        "  r = diameter / 2\n",
        "  V = (4/3) * pi * (r ** 3)\n",
        "  return V\n",
        "print(volume_of_sphere())\n"
      ],
      "execution_count": 16,
      "outputs": [
        {
          "output_type": "stream",
          "text": [
            "904.7786842338603\n"
          ],
          "name": "stdout"
        }
      ]
    },
    {
      "cell_type": "code",
      "metadata": {
        "id": "dp_LsBH6HfsY",
        "colab_type": "code",
        "colab": {}
      },
      "source": [
        ""
      ],
      "execution_count": 0,
      "outputs": []
    },
    {
      "cell_type": "markdown",
      "metadata": {
        "id": "KBbl7_8uH-IW",
        "colab_type": "text"
      },
      "source": [
        "4.Write a program which accepts a sequence of comma-separated numbers from console and generate a list. "
      ]
    },
    {
      "cell_type": "code",
      "metadata": {
        "id": "FRHKHpz5ICs1",
        "colab_type": "code",
        "colab": {
          "base_uri": "https://localhost:8080/",
          "height": 51
        },
        "outputId": "b0312162-b7a3-40cb-8f84-0efe34f9204f"
      },
      "source": [
        "# Here i have assumed that the numbers would be integers . if we are giving floating point thatn we can change datatype map to float\n",
        "input_commaseperated = input('accepts a sequence of comma-separated numbers : ')\n",
        "lst = list(map(int,input_commaseperated.split(',')))\n",
        "print(lst)"
      ],
      "execution_count": 21,
      "outputs": [
        {
          "output_type": "stream",
          "text": [
            "accepts a sequence of comma-separated numbers : 10,20,30\n",
            "[10, 20, 30]\n"
          ],
          "name": "stdout"
        }
      ]
    },
    {
      "cell_type": "code",
      "metadata": {
        "id": "2i5VuLcUIj_R",
        "colab_type": "code",
        "colab": {}
      },
      "source": [
        ""
      ],
      "execution_count": 0,
      "outputs": []
    },
    {
      "cell_type": "markdown",
      "metadata": {
        "id": "Lx4B-TXLJrKW",
        "colab_type": "text"
      },
      "source": [
        "5.Create the below pattern using nested for loop in Python. "
      ]
    },
    {
      "cell_type": "code",
      "metadata": {
        "id": "rkAB0XzcJt6n",
        "colab_type": "code",
        "colab": {
          "base_uri": "https://localhost:8080/",
          "height": 357
        },
        "outputId": "83be0a99-0d01-4736-a2fa-f94afe6320c4"
      },
      "source": [
        "inp = int(input())\n",
        "i = inp\n",
        "for i in range(1,inp):\n",
        "  print('*'*i)\n",
        "  i += 1  \n",
        "j = i\n",
        "while j >0:\n",
        "  print('*'* j)\n",
        "  j -= 1"
      ],
      "execution_count": 42,
      "outputs": [
        {
          "output_type": "stream",
          "text": [
            "10\n",
            "*\n",
            "**\n",
            "***\n",
            "****\n",
            "*****\n",
            "******\n",
            "*******\n",
            "********\n",
            "*********\n",
            "**********\n",
            "*********\n",
            "********\n",
            "*******\n",
            "******\n",
            "*****\n",
            "****\n",
            "***\n",
            "**\n",
            "*\n"
          ],
          "name": "stdout"
        }
      ]
    },
    {
      "cell_type": "code",
      "metadata": {
        "id": "PBpCiX7vO2eJ",
        "colab_type": "code",
        "colab": {}
      },
      "source": [
        "\n"
      ],
      "execution_count": 0,
      "outputs": []
    },
    {
      "cell_type": "markdown",
      "metadata": {
        "id": "2baOuxdDKFue",
        "colab_type": "text"
      },
      "source": [
        "6. \n",
        "Write a Python program to reverse a word after accepting the input from the user. \n",
        "Sample Output: \n",
        "Input word: Ineuron \n",
        "Output: noruenI \n"
      ]
    },
    {
      "cell_type": "code",
      "metadata": {
        "id": "escNopEKKHHU",
        "colab_type": "code",
        "colab": {
          "base_uri": "https://localhost:8080/",
          "height": 51
        },
        "outputId": "7549eaf7-355a-4204-c7d2-6cc2399f8025"
      },
      "source": [
        "word = input('Input a word : ')\n",
        "print(word[::-1])"
      ],
      "execution_count": 22,
      "outputs": [
        {
          "output_type": "stream",
          "text": [
            "Input a word : Ineuron\n",
            "noruenI\n"
          ],
          "name": "stdout"
        }
      ]
    },
    {
      "cell_type": "markdown",
      "metadata": {
        "id": "5NBXbb1PKp5r",
        "colab_type": "text"
      },
      "source": [
        "7. Write a Python Program to print the given string in the format specified in the sample output. \n",
        "Input - WE, THE PEOPLE OF INDIA, having solemnly resolved to constitute India into a SOVEREIGN, SOCIALIST, SECULAR, DEMOCRATIC REPUBLIC and to secure to all its citizens \n",
        "\n"
      ]
    },
    {
      "cell_type": "code",
      "metadata": {
        "id": "RBIfOgbrKWYj",
        "colab_type": "code",
        "colab": {
          "base_uri": "https://localhost:8080/",
          "height": 85
        },
        "outputId": "05208b06-f6e6-4345-dd23-ffcd709b2edd"
      },
      "source": [
        "#Sample output \n",
        "#WE, THE PEOPLE OF INDIA, \n",
        "#    having solemnly resolved to constitute India into a SOVEREIGN,!\n",
        "#        SOCIALIST, SECULAR, DEMOCRATIC REPUBLIC\n",
        "#        and to secure to all its citizens \n",
        "\n",
        "print(\"WE, THE PEOPLE OF INDIA,\\n\\t having solemnly resolved to constitute India into a SOVEREIGN,! \\n\\t\\t SOCIALIST, SECULAR, DEMOCRATIC REPUBLIC\\n\\t\\t and to secure to all its citizens \")\n"
      ],
      "execution_count": 24,
      "outputs": [
        {
          "output_type": "stream",
          "text": [
            "WE, THE PEOPLE OF INDIA,\n",
            "\t having solemnly resolved to constitute India into a SOVEREIGN,! \n",
            "\t\t SOCIALIST, SECULAR, DEMOCRATIC REPUBLIC\n",
            "\t\t and to secure to all its citizens \n"
          ],
          "name": "stdout"
        }
      ]
    },
    {
      "cell_type": "code",
      "metadata": {
        "id": "-iKc8eSOL66i",
        "colab_type": "code",
        "colab": {}
      },
      "source": [
        ""
      ],
      "execution_count": 0,
      "outputs": []
    }
  ]
}