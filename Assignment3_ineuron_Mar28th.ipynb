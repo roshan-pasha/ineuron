{
  "nbformat": 4,
  "nbformat_minor": 0,
  "metadata": {
    "colab": {
      "name": "Assignment3_ineuron_Mar28th.ipynb",
      "provenance": []
    },
    "kernelspec": {
      "name": "python3",
      "display_name": "Python 3"
    }
  },
  "cells": [
    {
      "cell_type": "markdown",
      "metadata": {
        "id": "rdh4z5vMGZ2u",
        "colab_type": "text"
      },
      "source": [
        "\n",
        "\n",
        "1. Write a function to compute 5/0 and use try/except to catch the exceptions.\n",
        "\n"
      ]
    },
    {
      "cell_type": "code",
      "metadata": {
        "id": "9hDtpSfKGcxT",
        "colab_type": "code",
        "outputId": "041e1f29-6cae-42d8-f024-d53c96426a17",
        "colab": {
          "base_uri": "https://localhost:8080/",
          "height": 34
        }
      },
      "source": [
        "def divide_by_zero():\n",
        "  return 5/0\n",
        "\n",
        "try:\n",
        "  divide_by_zero()\n",
        "except ZeroDivisionError  as zeroerror:\n",
        "  print('Handle error', zeroerror)\n",
        "except:\n",
        "  print('any othe expression')  \n",
        "\n"
      ],
      "execution_count": 0,
      "outputs": [
        {
          "output_type": "stream",
          "text": [
            "Handle error division by zero\n"
          ],
          "name": "stdout"
        }
      ]
    },
    {
      "cell_type": "markdown",
      "metadata": {
        "id": "HvFp7SWyGenT",
        "colab_type": "text"
      },
      "source": [
        "#### 2. Implement a Python program to generate all sentences where subject is in [\"Americans\",\"Indians\"] and verb is in [\"Play\", \"watch\"] and the object is in [\"Baseball\",\"cricket\"].\n",
        "\n",
        "Hint: Subject,Verb and Object should be declared in the program as shown below.\n",
        "subjects=[\"Americans \",\"Indians\"]\n",
        "verbs=[\"play\",\"watch\"]\n",
        "objects=[\"Baseball\",\"Cricket\"]\n",
        "\n",
        "Output should come as below:\n",
        "\n",
        "Americans play Baseball.\n",
        "\n",
        "Americans play Cricket.\n",
        "\n",
        "Americans watch Baseball.\n",
        "\n",
        "Americans watch Cricket.\n",
        "\n",
        "Indians play Baseball.\n",
        "\n",
        "Indians play Cricket.\n",
        "\n",
        "Indians watch Baseball.\n",
        "\n",
        "Indians watch Cricket.\n",
        "\n",
        "\n"
      ]
    },
    {
      "cell_type": "code",
      "metadata": {
        "id": "e2xA1gxPGz21",
        "colab_type": "code",
        "outputId": "9c40b8ba-ac7b-4b04-972e-095935676502",
        "colab": {
          "base_uri": "https://localhost:8080/",
          "height": 153
        }
      },
      "source": [
        "# Using List comprehension\n",
        "subjects=[\"Americans\",\"Indians\"]\n",
        "verbs=[\"play\",\"watch\"] \n",
        "objects=[\"Baseball\",\"Cricket\"]\n",
        "\n",
        "output = ([(sub+' '+verb+' '+obj) for sub in subjects for verb in verbs for obj in objects])\n",
        "for i in output:\n",
        "  print(i)\n"
      ],
      "execution_count": 0,
      "outputs": [
        {
          "output_type": "stream",
          "text": [
            "Americans play Baseball\n",
            "Americans play Cricket\n",
            "Americans watch Baseball\n",
            "Americans watch Cricket\n",
            "Indians play Baseball\n",
            "Indians play Cricket\n",
            "Indians watch Baseball\n",
            "Indians watch Cricket\n"
          ],
          "name": "stdout"
        }
      ]
    },
    {
      "cell_type": "code",
      "metadata": {
        "id": "qio9JI-z4dHz",
        "colab_type": "code",
        "outputId": "3e67310f-5f25-4042-e977-32397ec88965",
        "colab": {
          "base_uri": "https://localhost:8080/",
          "height": 153
        }
      },
      "source": [
        "# Using  for loop\n",
        "for sub in subjects:\n",
        "  for verb in verbs:\n",
        "    for obj in objects:\n",
        "      print(sub+''+verb+' '+obj)"
      ],
      "execution_count": 0,
      "outputs": [
        {
          "output_type": "stream",
          "text": [
            "Americans play Baseball\n",
            "Americans play Cricket\n",
            "Americans watch Baseball\n",
            "Americans watch Cricket\n",
            "Indiansplay Baseball\n",
            "Indiansplay Cricket\n",
            "Indianswatch Baseball\n",
            "Indianswatch Cricket\n"
          ],
          "name": "stdout"
        }
      ]
    },
    {
      "cell_type": "markdown",
      "metadata": {
        "id": "nqFnot1pHEDr",
        "colab_type": "text"
      },
      "source": [
        "### Task 2:\n",
        "#### 1. Write a function so that the columns of the output matrix are powers of the input vector. \n",
        "The order of the powers is determined by the increasing boolean argument. Specifically, when increasing is False, the i-th output column is the input vector raised element-wise to the power of N - i - 1.\n",
        "\n",
        "HINT: Such a matrix with a geometric progression in each row is named for Alexandre-\n",
        "Theophile Vandermonde.\n",
        "\n",
        "NOTE: The solution shared through Github should contain the source code used and the\n",
        "screenshot of the output."
      ]
    },
    {
      "cell_type": "code",
      "metadata": {
        "id": "DVD0JvWQHNjI",
        "colab_type": "code",
        "outputId": "3a137933-6b19-4a6a-98b6-eeec77d7804e",
        "colab": {
          "base_uri": "https://localhost:8080/",
          "height": 85
        }
      },
      "source": [
        "# Example of Alexandre- Theophile Vandermonde.\n",
        "import numpy as np\n",
        "\n",
        "x = np.array([1, 2, 3, 4])\n",
        "N = 5\n",
        "np.vander(x, N)\n",
        "  "
      ],
      "execution_count": 2,
      "outputs": [
        {
          "output_type": "execute_result",
          "data": {
            "text/plain": [
              "array([[  1,   1,   1,   1,   1],\n",
              "       [ 16,   8,   4,   2,   1],\n",
              "       [ 81,  27,   9,   3,   1],\n",
              "       [256,  64,  16,   4,   1]])"
            ]
          },
          "metadata": {
            "tags": []
          },
          "execution_count": 2
        }
      ]
    },
    {
      "cell_type": "code",
      "metadata": {
        "id": "AXe-sopPJMWk",
        "colab_type": "code",
        "outputId": "cdc022e8-102e-4588-eddc-b705e9a46638",
        "colab": {
          "base_uri": "https://localhost:8080/",
          "height": 34
        }
      },
      "source": [
        " x"
      ],
      "execution_count": 3,
      "outputs": [
        {
          "output_type": "execute_result",
          "data": {
            "text/plain": [
              "array([1, 2, 3, 4])"
            ]
          },
          "metadata": {
            "tags": []
          },
          "execution_count": 3
        }
      ]
    },
    {
      "cell_type": "code",
      "metadata": {
        "id": "jvwMP0v3-r54",
        "colab_type": "code",
        "colab": {
          "base_uri": "https://localhost:8080/",
          "height": 119
        },
        "outputId": "7957353c-3c7d-4cec-d73c-63f0fa8d3781"
      },
      "source": [
        "x = list(map(int, input('Enter input with space seperated numbers : ').split()))\n",
        "n = int(input('Enter n : '))\n",
        "def vander(x,n):\n",
        "    output=[]\n",
        "    for i in range(len(x)):\n",
        "        dummy=[]\n",
        "        for j in range(n-1,-1,-1):\n",
        "            item=x[i]**j\n",
        "            dummy.append(item)\n",
        "        output.append(dummy)\n",
        "    return output\n",
        "  \n",
        "print(np.array(vander(x,n)))\n"
      ],
      "execution_count": 5,
      "outputs": [
        {
          "output_type": "stream",
          "text": [
            "Enter input with space seperated numbers : 1 2 3 4\n",
            "Enter n : 5\n",
            "[[  1   1   1   1   1]\n",
            " [ 16   8   4   2   1]\n",
            " [ 81  27   9   3   1]\n",
            " [256  64  16   4   1]]\n"
          ],
          "name": "stdout"
        }
      ]
    },
    {
      "cell_type": "code",
      "metadata": {
        "id": "-gY3RS46R4XU",
        "colab_type": "code",
        "colab": {}
      },
      "source": [
        ""
      ],
      "execution_count": 0,
      "outputs": []
    }
  ]
}