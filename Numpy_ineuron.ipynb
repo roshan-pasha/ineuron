{
  "nbformat": 4,
  "nbformat_minor": 0,
  "metadata": {
    "colab": {
      "name": "Numpy_ineuron.ipynb",
      "provenance": [],
      "authorship_tag": "ABX9TyOMDXMWJKtGw6Rt7nEgA5zY",
      "include_colab_link": true
    },
    "kernelspec": {
      "name": "python3",
      "display_name": "Python 3"
    }
  },
  "cells": [
    {
      "cell_type": "markdown",
      "metadata": {
        "id": "view-in-github",
        "colab_type": "text"
      },
      "source": [
        "<a href=\"https://colab.research.google.com/github/roshan-pasha/ineuron/blob/master/Numpy_ineuron.ipynb\" target=\"_parent\"><img src=\"https://colab.research.google.com/assets/colab-badge.svg\" alt=\"Open In Colab\"/></a>"
      ]
    },
    {
      "cell_type": "markdown",
      "metadata": {
        "id": "x7jX9jDJueX1",
        "colab_type": "text"
      },
      "source": [
        "Write a function so that the columns of the output matrix are powers of the input\n",
        "vector.\n",
        "The order of the powers is determined by the increasing boolean argument. Specifically, when\n",
        "increasing is False, the i-th output column is the input vector raised element-wise to the power\n",
        "of N - i - 1.\n",
        "\n",
        "HINT: Such a matrix with a geometric progression in each row is named for Alexandre-\n",
        "Theophile Vandermonde."
      ]
    },
    {
      "cell_type": "code",
      "metadata": {
        "id": "QAi43uQIRdxZ",
        "colab_type": "code",
        "outputId": "f42b674e-350f-494a-aa70-d851f07416d2",
        "colab": {
          "base_uri": "https://localhost:8080/",
          "height": 90
        }
      },
      "source": [
        "# Example of Alexandre- Theophile Vandermonde.\n",
        "import numpy as np\n",
        "\n",
        "x = np.array([1, 2, 3, 4])\n",
        "N = 5\n",
        "np.vander(x, N)"
      ],
      "execution_count": 1,
      "outputs": [
        {
          "output_type": "execute_result",
          "data": {
            "text/plain": [
              "array([[  1,   1,   1,   1,   1],\n",
              "       [ 16,   8,   4,   2,   1],\n",
              "       [ 81,  27,   9,   3,   1],\n",
              "       [256,  64,  16,   4,   1]])"
            ]
          },
          "metadata": {
            "tags": []
          },
          "execution_count": 1
        }
      ]
    },
    {
      "cell_type": "code",
      "metadata": {
        "id": "pqV6vdlkulMS",
        "colab_type": "code",
        "outputId": "39d71830-8f90-46a2-810a-da628f5a9df6",
        "colab": {
          "base_uri": "https://localhost:8080/",
          "height": 35
        }
      },
      "source": [
        "x"
      ],
      "execution_count": 0,
      "outputs": [
        {
          "output_type": "execute_result",
          "data": {
            "text/plain": [
              "array([1, 2, 3, 4])"
            ]
          },
          "metadata": {
            "tags": []
          },
          "execution_count": 3
        }
      ]
    },
    {
      "cell_type": "code",
      "metadata": {
        "id": "zkW7FQBSudXE",
        "colab_type": "code",
        "outputId": "fd9bd7b8-79c5-43a3-96ee-8b9e2bd36e78",
        "colab": {
          "base_uri": "https://localhost:8080/",
          "height": 126
        }
      },
      "source": [
        "x = list(map(int, input('Enter input with space seperated numbers : ').split()))\n",
        "n = int(input('Enter n : '))\n",
        "def vander(x,n):\n",
        "    output=[]\n",
        "    for i in range(len(x)):\n",
        "        dummy=[]\n",
        "        for j in range(n-1,-1,-1):\n",
        "            item=x[i]**j\n",
        "            dummy.append(item)\n",
        "        output.append(dummy)\n",
        "    return output\n",
        "  \n",
        "print(np.array(vander(x,n)))"
      ],
      "execution_count": 0,
      "outputs": [
        {
          "output_type": "stream",
          "text": [
            "Enter input with space seperated numbers : 1 2 3 4\n",
            "Enter n : 2\n",
            "[[1 1]\n",
            " [2 1]\n",
            " [3 1]\n",
            " [4 1]]\n"
          ],
          "name": "stdout"
        }
      ]
    },
    {
      "cell_type": "markdown",
      "metadata": {
        "id": "E7oQXmClTMSI",
        "colab_type": "text"
      },
      "source": [
        "\n",
        "\n",
        "Problem Statement 2:\n",
        "\n",
        "Given a sequence of n values x1, x2, ..., xn and a window size k>0, the k-th moving average of\n",
        "the given sequence is defined as follows:\n",
        "The moving average sequence has n-k+1 elements as shown below.\n",
        "The moving averages with k=4 of a ten-value sequence (n=10) is shown below"
      ]
    },
    {
      "cell_type": "markdown",
      "metadata": {
        "id": "BWdzlRh3TpPx",
        "colab_type": "text"
      },
      "source": [
        "i 1 2 3 4 5 6 7 8 9 10\n",
        "===== == == == == == == == == == ==\n",
        "Input 10 20 30 40 50 60 70 80 90 100\n",
        "\n",
        "y1 25 = (10+20+30+40)/4\n",
        "\n",
        "y2 35 = (20+30+40+50)/4\n",
        "\n",
        "y3 45 = (30+40+50+60)/4\n",
        "\n",
        "y4 55 = (40+50+60+70)/4\n",
        "\n",
        "y5 65 = (50+60+70+80)/4\n",
        "\n",
        "y6 75 = (60+70+80+90)/4\n",
        "\n",
        "y7 85 = (70+80+90+100)/4\n",
        "\n",
        "Thus, the moving average sequence has n-k+1=10-4+1=7 values."
      ]
    },
    {
      "cell_type": "code",
      "metadata": {
        "id": "sz9AtlFeTek2",
        "colab_type": "code",
        "colab": {}
      },
      "source": [
        ""
      ],
      "execution_count": 0,
      "outputs": []
    },
    {
      "cell_type": "markdown",
      "metadata": {
        "id": "asTF7L8ETz4L",
        "colab_type": "text"
      },
      "source": [
        "Question: Write a function to find moving average in an array over a window:\n",
        "\n",
        "Test it over [3, 5, 7, 2, 8, 10, 11, 65, 72, 81, 99, 100, 150] and window of 3."
      ]
    },
    {
      "cell_type": "code",
      "metadata": {
        "id": "2Yq7l4O6T1aK",
        "colab_type": "code",
        "colab": {
          "base_uri": "https://localhost:8080/",
          "height": 90
        },
        "outputId": "faac2c0c-6425-4b25-c7ca-0afc16e4dd5c"
      },
      "source": [
        "def moving_avg(a, window = 3):\n",
        "  ret = np.cumsum(a,dtype= float)\n",
        "  ret[window:] = ret[window:] - ret[:-window]\n",
        "  return ret[window - 1:] / window\n",
        "a = [3, 5, 7, 2, 8, 10, 11, 65, 72, 81, 99, 100, 150]\n",
        "print(moving_avg(a))\n",
        "numbers = [10, 20, 30, 40, 50, 60, 70, 80, 90, 100]\n",
        "print(moving_avg(numbers,window=4))\n"
      ],
      "execution_count": 16,
      "outputs": [
        {
          "output_type": "stream",
          "text": [
            "[  5.           4.66666667   5.66666667   6.66666667   9.66666667\n",
            "  28.66666667  49.33333333  72.66666667  84.          93.33333333\n",
            " 116.33333333]\n",
            "[25. 35. 45. 55. 65. 75. 85.]\n"
          ],
          "name": "stdout"
        }
      ]
    },
    {
      "cell_type": "code",
      "metadata": {
        "id": "-pC9OXie2CUs",
        "colab_type": "code",
        "colab": {}
      },
      "source": [
        ""
      ],
      "execution_count": 0,
      "outputs": []
    },
    {
      "cell_type": "code",
      "metadata": {
        "id": "BByyOPep0sK5",
        "colab_type": "code",
        "colab": {}
      },
      "source": [
        ""
      ],
      "execution_count": 0,
      "outputs": []
    }
  ]
}